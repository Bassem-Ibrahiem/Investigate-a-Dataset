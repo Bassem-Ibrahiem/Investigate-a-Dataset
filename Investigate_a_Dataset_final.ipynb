{
 "cells": [
  {
   "cell_type": "markdown",
   "metadata": {},
   "source": [
    "\n",
    "# Project: Investigate TMDb movie dataset\n",
    "\n",
    "## Table of Contents\n",
    "<ul>\n",
    "<li><a href=\"#intro\">Introduction</a></li>\n",
    "<li><a href=\"#wrangling\">Data Wrangling</a></li>\n",
    "<li><a href=\"#eda\">Exploratory Data Analysis</a></li>\n",
    "<li><a href=\"#conclusions\">Conclusions</a></li>\n",
    "</ul>"
   ]
  },
  {
   "cell_type": "markdown",
   "metadata": {},
   "source": [
    "<a id='intro'></a>\n",
    "## Introduction\n",
    "\n",
    "**This analysis treat with TMDb movie dataset to answer about some questions based on adjusted currancy value that corrected for inflation or gross domestic product (GDP) to cover for period of movies release years that about 55 year from 1960 till 2015.**\n",
    "\n",
    "### Questions is:\n",
    "\n",
    "* **What's period that movies released duration?**\n",
    "* **Which most popular movie weighted by voters and rating number?**\n",
    "* **Movie with highest or lowest adjusted budget?**\n",
    "* **Which movie made the highest and lowest adjusted revenue?**\n",
    "* **Which movie Has the highest or lowest adjusted profit?**\n",
    "* **Which movie has longest and shorest runtime?**\n",
    "* **What's avearage runtime of movies?**\n",
    "* **Which year has the highest count release of movies?**\n",
    "* **Which year has the highest adjusted profit?**\n",
    "* **Which genre has the most count of released movies?**\n",
    "* **Which most star acted in movies?**\n",
    "* **Which is production company with highest number of released movies?**\n",
    "* **Which is director who directed maximum Movies?**"
   ]
  },
  {
   "cell_type": "code",
   "execution_count": 2,
   "metadata": {},
   "outputs": [],
   "source": [
    "# Import statements for all of the packages that you plan to use.\n",
    "import pandas as pd\n",
    "import numpy as np\n",
    "import matplotlib.pyplot as plt\n",
    "% matplotlib inline"
   ]
  },
  {
   "cell_type": "markdown",
   "metadata": {},
   "source": [
    "<a id='wrangling'></a>\n",
    "## Data Wrangling\n",
    "\n",
    "\n",
    "### General Properties"
   ]
  },
  {
   "cell_type": "code",
   "execution_count": 3,
   "metadata": {},
   "outputs": [
    {
     "data": {
      "text/html": [
       "<div>\n",
       "<style scoped>\n",
       "    .dataframe tbody tr th:only-of-type {\n",
       "        vertical-align: middle;\n",
       "    }\n",
       "\n",
       "    .dataframe tbody tr th {\n",
       "        vertical-align: top;\n",
       "    }\n",
       "\n",
       "    .dataframe thead th {\n",
       "        text-align: right;\n",
       "    }\n",
       "</style>\n",
       "<table border=\"1\" class=\"dataframe\">\n",
       "  <thead>\n",
       "    <tr style=\"text-align: right;\">\n",
       "      <th></th>\n",
       "      <th>id</th>\n",
       "      <th>imdb_id</th>\n",
       "      <th>popularity</th>\n",
       "      <th>budget</th>\n",
       "      <th>revenue</th>\n",
       "      <th>original_title</th>\n",
       "      <th>cast</th>\n",
       "      <th>homepage</th>\n",
       "      <th>director</th>\n",
       "      <th>tagline</th>\n",
       "      <th>...</th>\n",
       "      <th>overview</th>\n",
       "      <th>runtime</th>\n",
       "      <th>genres</th>\n",
       "      <th>production_companies</th>\n",
       "      <th>release_date</th>\n",
       "      <th>vote_count</th>\n",
       "      <th>vote_average</th>\n",
       "      <th>release_year</th>\n",
       "      <th>budget_adj</th>\n",
       "      <th>revenue_adj</th>\n",
       "    </tr>\n",
       "  </thead>\n",
       "  <tbody>\n",
       "    <tr>\n",
       "      <th>0</th>\n",
       "      <td>135397</td>\n",
       "      <td>tt0369610</td>\n",
       "      <td>32.985763</td>\n",
       "      <td>150000000</td>\n",
       "      <td>1513528810</td>\n",
       "      <td>Jurassic World</td>\n",
       "      <td>Chris Pratt|Bryce Dallas Howard|Irrfan Khan|Vi...</td>\n",
       "      <td>http://www.jurassicworld.com/</td>\n",
       "      <td>Colin Trevorrow</td>\n",
       "      <td>The park is open.</td>\n",
       "      <td>...</td>\n",
       "      <td>Twenty-two years after the events of Jurassic ...</td>\n",
       "      <td>124</td>\n",
       "      <td>Action|Adventure|Science Fiction|Thriller</td>\n",
       "      <td>Universal Studios|Amblin Entertainment|Legenda...</td>\n",
       "      <td>6/9/15</td>\n",
       "      <td>5562</td>\n",
       "      <td>6.5</td>\n",
       "      <td>2015</td>\n",
       "      <td>1.379999e+08</td>\n",
       "      <td>1.392446e+09</td>\n",
       "    </tr>\n",
       "    <tr>\n",
       "      <th>1</th>\n",
       "      <td>76341</td>\n",
       "      <td>tt1392190</td>\n",
       "      <td>28.419936</td>\n",
       "      <td>150000000</td>\n",
       "      <td>378436354</td>\n",
       "      <td>Mad Max: Fury Road</td>\n",
       "      <td>Tom Hardy|Charlize Theron|Hugh Keays-Byrne|Nic...</td>\n",
       "      <td>http://www.madmaxmovie.com/</td>\n",
       "      <td>George Miller</td>\n",
       "      <td>What a Lovely Day.</td>\n",
       "      <td>...</td>\n",
       "      <td>An apocalyptic story set in the furthest reach...</td>\n",
       "      <td>120</td>\n",
       "      <td>Action|Adventure|Science Fiction|Thriller</td>\n",
       "      <td>Village Roadshow Pictures|Kennedy Miller Produ...</td>\n",
       "      <td>5/13/15</td>\n",
       "      <td>6185</td>\n",
       "      <td>7.1</td>\n",
       "      <td>2015</td>\n",
       "      <td>1.379999e+08</td>\n",
       "      <td>3.481613e+08</td>\n",
       "    </tr>\n",
       "    <tr>\n",
       "      <th>2</th>\n",
       "      <td>262500</td>\n",
       "      <td>tt2908446</td>\n",
       "      <td>13.112507</td>\n",
       "      <td>110000000</td>\n",
       "      <td>295238201</td>\n",
       "      <td>Insurgent</td>\n",
       "      <td>Shailene Woodley|Theo James|Kate Winslet|Ansel...</td>\n",
       "      <td>http://www.thedivergentseries.movie/#insurgent</td>\n",
       "      <td>Robert Schwentke</td>\n",
       "      <td>One Choice Can Destroy You</td>\n",
       "      <td>...</td>\n",
       "      <td>Beatrice Prior must confront her inner demons ...</td>\n",
       "      <td>119</td>\n",
       "      <td>Adventure|Science Fiction|Thriller</td>\n",
       "      <td>Summit Entertainment|Mandeville Films|Red Wago...</td>\n",
       "      <td>3/18/15</td>\n",
       "      <td>2480</td>\n",
       "      <td>6.3</td>\n",
       "      <td>2015</td>\n",
       "      <td>1.012000e+08</td>\n",
       "      <td>2.716190e+08</td>\n",
       "    </tr>\n",
       "    <tr>\n",
       "      <th>3</th>\n",
       "      <td>140607</td>\n",
       "      <td>tt2488496</td>\n",
       "      <td>11.173104</td>\n",
       "      <td>200000000</td>\n",
       "      <td>2068178225</td>\n",
       "      <td>Star Wars: The Force Awakens</td>\n",
       "      <td>Harrison Ford|Mark Hamill|Carrie Fisher|Adam D...</td>\n",
       "      <td>http://www.starwars.com/films/star-wars-episod...</td>\n",
       "      <td>J.J. Abrams</td>\n",
       "      <td>Every generation has a story.</td>\n",
       "      <td>...</td>\n",
       "      <td>Thirty years after defeating the Galactic Empi...</td>\n",
       "      <td>136</td>\n",
       "      <td>Action|Adventure|Science Fiction|Fantasy</td>\n",
       "      <td>Lucasfilm|Truenorth Productions|Bad Robot</td>\n",
       "      <td>12/15/15</td>\n",
       "      <td>5292</td>\n",
       "      <td>7.5</td>\n",
       "      <td>2015</td>\n",
       "      <td>1.839999e+08</td>\n",
       "      <td>1.902723e+09</td>\n",
       "    </tr>\n",
       "    <tr>\n",
       "      <th>4</th>\n",
       "      <td>168259</td>\n",
       "      <td>tt2820852</td>\n",
       "      <td>9.335014</td>\n",
       "      <td>190000000</td>\n",
       "      <td>1506249360</td>\n",
       "      <td>Furious 7</td>\n",
       "      <td>Vin Diesel|Paul Walker|Jason Statham|Michelle ...</td>\n",
       "      <td>http://www.furious7.com/</td>\n",
       "      <td>James Wan</td>\n",
       "      <td>Vengeance Hits Home</td>\n",
       "      <td>...</td>\n",
       "      <td>Deckard Shaw seeks revenge against Dominic Tor...</td>\n",
       "      <td>137</td>\n",
       "      <td>Action|Crime|Thriller</td>\n",
       "      <td>Universal Pictures|Original Film|Media Rights ...</td>\n",
       "      <td>4/1/15</td>\n",
       "      <td>2947</td>\n",
       "      <td>7.3</td>\n",
       "      <td>2015</td>\n",
       "      <td>1.747999e+08</td>\n",
       "      <td>1.385749e+09</td>\n",
       "    </tr>\n",
       "  </tbody>\n",
       "</table>\n",
       "<p>5 rows × 21 columns</p>\n",
       "</div>"
      ],
      "text/plain": [
       "       id    imdb_id  popularity     budget     revenue  \\\n",
       "0  135397  tt0369610   32.985763  150000000  1513528810   \n",
       "1   76341  tt1392190   28.419936  150000000   378436354   \n",
       "2  262500  tt2908446   13.112507  110000000   295238201   \n",
       "3  140607  tt2488496   11.173104  200000000  2068178225   \n",
       "4  168259  tt2820852    9.335014  190000000  1506249360   \n",
       "\n",
       "                 original_title  \\\n",
       "0                Jurassic World   \n",
       "1            Mad Max: Fury Road   \n",
       "2                     Insurgent   \n",
       "3  Star Wars: The Force Awakens   \n",
       "4                     Furious 7   \n",
       "\n",
       "                                                cast  \\\n",
       "0  Chris Pratt|Bryce Dallas Howard|Irrfan Khan|Vi...   \n",
       "1  Tom Hardy|Charlize Theron|Hugh Keays-Byrne|Nic...   \n",
       "2  Shailene Woodley|Theo James|Kate Winslet|Ansel...   \n",
       "3  Harrison Ford|Mark Hamill|Carrie Fisher|Adam D...   \n",
       "4  Vin Diesel|Paul Walker|Jason Statham|Michelle ...   \n",
       "\n",
       "                                            homepage          director  \\\n",
       "0                      http://www.jurassicworld.com/   Colin Trevorrow   \n",
       "1                        http://www.madmaxmovie.com/     George Miller   \n",
       "2     http://www.thedivergentseries.movie/#insurgent  Robert Schwentke   \n",
       "3  http://www.starwars.com/films/star-wars-episod...       J.J. Abrams   \n",
       "4                           http://www.furious7.com/         James Wan   \n",
       "\n",
       "                         tagline      ...       \\\n",
       "0              The park is open.      ...        \n",
       "1             What a Lovely Day.      ...        \n",
       "2     One Choice Can Destroy You      ...        \n",
       "3  Every generation has a story.      ...        \n",
       "4            Vengeance Hits Home      ...        \n",
       "\n",
       "                                            overview runtime  \\\n",
       "0  Twenty-two years after the events of Jurassic ...     124   \n",
       "1  An apocalyptic story set in the furthest reach...     120   \n",
       "2  Beatrice Prior must confront her inner demons ...     119   \n",
       "3  Thirty years after defeating the Galactic Empi...     136   \n",
       "4  Deckard Shaw seeks revenge against Dominic Tor...     137   \n",
       "\n",
       "                                      genres  \\\n",
       "0  Action|Adventure|Science Fiction|Thriller   \n",
       "1  Action|Adventure|Science Fiction|Thriller   \n",
       "2         Adventure|Science Fiction|Thriller   \n",
       "3   Action|Adventure|Science Fiction|Fantasy   \n",
       "4                      Action|Crime|Thriller   \n",
       "\n",
       "                                production_companies release_date vote_count  \\\n",
       "0  Universal Studios|Amblin Entertainment|Legenda...       6/9/15       5562   \n",
       "1  Village Roadshow Pictures|Kennedy Miller Produ...      5/13/15       6185   \n",
       "2  Summit Entertainment|Mandeville Films|Red Wago...      3/18/15       2480   \n",
       "3          Lucasfilm|Truenorth Productions|Bad Robot     12/15/15       5292   \n",
       "4  Universal Pictures|Original Film|Media Rights ...       4/1/15       2947   \n",
       "\n",
       "   vote_average  release_year    budget_adj   revenue_adj  \n",
       "0           6.5          2015  1.379999e+08  1.392446e+09  \n",
       "1           7.1          2015  1.379999e+08  3.481613e+08  \n",
       "2           6.3          2015  1.012000e+08  2.716190e+08  \n",
       "3           7.5          2015  1.839999e+08  1.902723e+09  \n",
       "4           7.3          2015  1.747999e+08  1.385749e+09  \n",
       "\n",
       "[5 rows x 21 columns]"
      ]
     },
     "execution_count": 3,
     "metadata": {},
     "output_type": "execute_result"
    }
   ],
   "source": [
    "# Load data and print out a few lines.\n",
    "df=pd.read_csv('tmdb-movies.csv')\n",
    "df.head()"
   ]
  },
  {
   "cell_type": "code",
   "execution_count": 4,
   "metadata": {},
   "outputs": [
    {
     "name": "stdout",
     "output_type": "stream",
     "text": [
      "<class 'pandas.core.frame.DataFrame'>\n",
      "RangeIndex: 10866 entries, 0 to 10865\n",
      "Data columns (total 21 columns):\n",
      "id                      10866 non-null int64\n",
      "imdb_id                 10856 non-null object\n",
      "popularity              10866 non-null float64\n",
      "budget                  10866 non-null int64\n",
      "revenue                 10866 non-null int64\n",
      "original_title          10866 non-null object\n",
      "cast                    10790 non-null object\n",
      "homepage                2936 non-null object\n",
      "director                10822 non-null object\n",
      "tagline                 8042 non-null object\n",
      "keywords                9373 non-null object\n",
      "overview                10862 non-null object\n",
      "runtime                 10866 non-null int64\n",
      "genres                  10843 non-null object\n",
      "production_companies    9836 non-null object\n",
      "release_date            10866 non-null object\n",
      "vote_count              10866 non-null int64\n",
      "vote_average            10866 non-null float64\n",
      "release_year            10866 non-null int64\n",
      "budget_adj              10866 non-null float64\n",
      "revenue_adj             10866 non-null float64\n",
      "dtypes: float64(4), int64(6), object(11)\n",
      "memory usage: 1.7+ MB\n"
     ]
    }
   ],
   "source": [
    "# Display Data Frame information\n",
    "df.info()"
   ]
  },
  {
   "cell_type": "code",
   "execution_count": 4,
   "metadata": {},
   "outputs": [
    {
     "data": {
      "text/plain": [
       "id                         0\n",
       "imdb_id                   10\n",
       "popularity                 0\n",
       "budget                     0\n",
       "revenue                    0\n",
       "original_title             0\n",
       "cast                      76\n",
       "homepage                7930\n",
       "director                  44\n",
       "tagline                 2824\n",
       "keywords                1493\n",
       "overview                   4\n",
       "runtime                    0\n",
       "genres                    23\n",
       "production_companies    1030\n",
       "release_date               0\n",
       "vote_count                 0\n",
       "vote_average               0\n",
       "release_year               0\n",
       "budget_adj                 0\n",
       "revenue_adj                0\n",
       "dtype: int64"
      ]
     },
     "execution_count": 4,
     "metadata": {},
     "output_type": "execute_result"
    }
   ],
   "source": [
    "#Display total count of null values in each column\n",
    "df.isnull().sum()"
   ]
  },
  {
   "cell_type": "code",
   "execution_count": 5,
   "metadata": {},
   "outputs": [
    {
     "data": {
      "text/plain": [
       "1"
      ]
     },
     "execution_count": 5,
     "metadata": {},
     "output_type": "execute_result"
    }
   ],
   "source": [
    "#Check duplicated values\n",
    "df.duplicated().sum()"
   ]
  },
  {
   "cell_type": "markdown",
   "metadata": {},
   "source": [
    "### Data Cleaning :\n",
    "* Remove duplicate data\n",
    "* Convert columns data to suitable type and remove that not useful in our processing\n",
    "* Remove null and zeros rows"
   ]
  },
  {
   "cell_type": "code",
   "execution_count": 6,
   "metadata": {},
   "outputs": [
    {
     "data": {
      "text/plain": [
       "0"
      ]
     },
     "execution_count": 6,
     "metadata": {},
     "output_type": "execute_result"
    }
   ],
   "source": [
    "# Remove duplicated Values and check after\n",
    "df.drop_duplicates(inplace=True)\n",
    "df.duplicated().sum()"
   ]
  },
  {
   "cell_type": "code",
   "execution_count": 7,
   "metadata": {},
   "outputs": [
    {
     "data": {
      "text/plain": [
       "id                               int64\n",
       "imdb_id                         object\n",
       "popularity                     float64\n",
       "budget                           int64\n",
       "revenue                          int64\n",
       "original_title                  object\n",
       "cast                            object\n",
       "homepage                        object\n",
       "director                        object\n",
       "tagline                         object\n",
       "keywords                        object\n",
       "overview                        object\n",
       "runtime                          int64\n",
       "genres                          object\n",
       "production_companies            object\n",
       "release_date            datetime64[ns]\n",
       "vote_count                       int64\n",
       "vote_average                   float64\n",
       "release_year                     int64\n",
       "budget_adj                       int64\n",
       "revenue_adj                      int64\n",
       "dtype: object"
      ]
     },
     "execution_count": 7,
     "metadata": {},
     "output_type": "execute_result"
    }
   ],
   "source": [
    "#Convert 'release_date' column to datatime format and insure from some columns tepe then check after\n",
    "df['release_date']=pd.to_datetime(df['release_date'])\n",
    "df[['cast','genres','production_companies']] = df[['cast','genres','production_companies']].astype(str)\n",
    "df[['budget_adj','revenue_adj']]=df[['budget_adj','revenue_adj']].applymap(np.int64)\n",
    "\n",
    "df.dtypes"
   ]
  },
  {
   "cell_type": "code",
   "execution_count": 8,
   "metadata": {},
   "outputs": [],
   "source": [
    "#Romve columns that not be useful in analysis\n",
    "df.drop([ 'id', 'imdb_id', 'homepage', 'tagline','keywords', 'overview'],axis=1,inplace=True)"
   ]
  },
  {
   "cell_type": "code",
   "execution_count": 9,
   "metadata": {},
   "outputs": [
    {
     "data": {
      "text/plain": [
       "(3853, 15)"
      ]
     },
     "execution_count": 9,
     "metadata": {},
     "output_type": "execute_result"
    }
   ],
   "source": [
    "# Remove all null data in 'budget_adj','revenue_adj' columns and check null values after\n",
    "df[['budget_adj','revenue_adj']]=df[['budget_adj','revenue_adj']].replace(0, np.NAN)\n",
    "df.dropna(subset=['budget_adj','revenue_adj'],inplace=True)\n",
    "\n",
    "# Display data frame shape after removing\n",
    "df.shape"
   ]
  },
  {
   "cell_type": "code",
   "execution_count": 10,
   "metadata": {},
   "outputs": [],
   "source": [
    "#Creating more columns for analysing\n",
    "df['vote_popularity']=df['vote_count']*df['vote_average']*df['popularity']\n",
    "df['Profit_adj']=df['revenue_adj']-df['budget_adj']"
   ]
  },
  {
   "cell_type": "code",
   "execution_count": 11,
   "metadata": {},
   "outputs": [
    {
     "data": {
      "text/html": [
       "<div>\n",
       "<style scoped>\n",
       "    .dataframe tbody tr th:only-of-type {\n",
       "        vertical-align: middle;\n",
       "    }\n",
       "\n",
       "    .dataframe tbody tr th {\n",
       "        vertical-align: top;\n",
       "    }\n",
       "\n",
       "    .dataframe thead th {\n",
       "        text-align: right;\n",
       "    }\n",
       "</style>\n",
       "<table border=\"1\" class=\"dataframe\">\n",
       "  <thead>\n",
       "    <tr style=\"text-align: right;\">\n",
       "      <th></th>\n",
       "      <th>popularity</th>\n",
       "      <th>budget</th>\n",
       "      <th>revenue</th>\n",
       "      <th>original_title</th>\n",
       "      <th>cast</th>\n",
       "      <th>director</th>\n",
       "      <th>runtime</th>\n",
       "      <th>genres</th>\n",
       "      <th>production_companies</th>\n",
       "      <th>release_date</th>\n",
       "      <th>vote_count</th>\n",
       "      <th>vote_average</th>\n",
       "      <th>release_year</th>\n",
       "      <th>budget_adj</th>\n",
       "      <th>revenue_adj</th>\n",
       "      <th>vote_popularity</th>\n",
       "      <th>Profit_adj</th>\n",
       "    </tr>\n",
       "  </thead>\n",
       "  <tbody>\n",
       "    <tr>\n",
       "      <th>0</th>\n",
       "      <td>32.985763</td>\n",
       "      <td>150000000</td>\n",
       "      <td>1513528810</td>\n",
       "      <td>Jurassic World</td>\n",
       "      <td>Chris Pratt|Bryce Dallas Howard|Irrfan Khan|Vi...</td>\n",
       "      <td>Colin Trevorrow</td>\n",
       "      <td>124</td>\n",
       "      <td>Action|Adventure|Science Fiction|Thriller</td>\n",
       "      <td>Universal Studios|Amblin Entertainment|Legenda...</td>\n",
       "      <td>6/9/15</td>\n",
       "      <td>5562</td>\n",
       "      <td>6.5</td>\n",
       "      <td>2015</td>\n",
       "      <td>1.379999e+08</td>\n",
       "      <td>1.392446e+09</td>\n",
       "      <td>1.192534e+06</td>\n",
       "      <td>1.254446e+09</td>\n",
       "    </tr>\n",
       "    <tr>\n",
       "      <th>1</th>\n",
       "      <td>28.419936</td>\n",
       "      <td>150000000</td>\n",
       "      <td>378436354</td>\n",
       "      <td>Mad Max: Fury Road</td>\n",
       "      <td>Tom Hardy|Charlize Theron|Hugh Keays-Byrne|Nic...</td>\n",
       "      <td>George Miller</td>\n",
       "      <td>120</td>\n",
       "      <td>Action|Adventure|Science Fiction|Thriller</td>\n",
       "      <td>Village Roadshow Pictures|Kennedy Miller Produ...</td>\n",
       "      <td>5/13/15</td>\n",
       "      <td>6185</td>\n",
       "      <td>7.1</td>\n",
       "      <td>2015</td>\n",
       "      <td>1.379999e+08</td>\n",
       "      <td>3.481613e+08</td>\n",
       "      <td>1.248019e+06</td>\n",
       "      <td>2.101614e+08</td>\n",
       "    </tr>\n",
       "    <tr>\n",
       "      <th>2</th>\n",
       "      <td>13.112507</td>\n",
       "      <td>110000000</td>\n",
       "      <td>295238201</td>\n",
       "      <td>Insurgent</td>\n",
       "      <td>Shailene Woodley|Theo James|Kate Winslet|Ansel...</td>\n",
       "      <td>Robert Schwentke</td>\n",
       "      <td>119</td>\n",
       "      <td>Adventure|Science Fiction|Thriller</td>\n",
       "      <td>Summit Entertainment|Mandeville Films|Red Wago...</td>\n",
       "      <td>3/18/15</td>\n",
       "      <td>2480</td>\n",
       "      <td>6.3</td>\n",
       "      <td>2015</td>\n",
       "      <td>1.012000e+08</td>\n",
       "      <td>2.716190e+08</td>\n",
       "      <td>2.048698e+05</td>\n",
       "      <td>1.704191e+08</td>\n",
       "    </tr>\n",
       "    <tr>\n",
       "      <th>3</th>\n",
       "      <td>11.173104</td>\n",
       "      <td>200000000</td>\n",
       "      <td>2068178225</td>\n",
       "      <td>Star Wars: The Force Awakens</td>\n",
       "      <td>Harrison Ford|Mark Hamill|Carrie Fisher|Adam D...</td>\n",
       "      <td>J.J. Abrams</td>\n",
       "      <td>136</td>\n",
       "      <td>Action|Adventure|Science Fiction|Fantasy</td>\n",
       "      <td>Lucasfilm|Truenorth Productions|Bad Robot</td>\n",
       "      <td>12/15/15</td>\n",
       "      <td>5292</td>\n",
       "      <td>7.5</td>\n",
       "      <td>2015</td>\n",
       "      <td>1.839999e+08</td>\n",
       "      <td>1.902723e+09</td>\n",
       "      <td>4.434605e+05</td>\n",
       "      <td>1.718723e+09</td>\n",
       "    </tr>\n",
       "    <tr>\n",
       "      <th>4</th>\n",
       "      <td>9.335014</td>\n",
       "      <td>190000000</td>\n",
       "      <td>1506249360</td>\n",
       "      <td>Furious 7</td>\n",
       "      <td>Vin Diesel|Paul Walker|Jason Statham|Michelle ...</td>\n",
       "      <td>James Wan</td>\n",
       "      <td>137</td>\n",
       "      <td>Action|Crime|Thriller</td>\n",
       "      <td>Universal Pictures|Original Film|Media Rights ...</td>\n",
       "      <td>4/1/15</td>\n",
       "      <td>2947</td>\n",
       "      <td>7.3</td>\n",
       "      <td>2015</td>\n",
       "      <td>1.747999e+08</td>\n",
       "      <td>1.385749e+09</td>\n",
       "      <td>2.008251e+05</td>\n",
       "      <td>1.210949e+09</td>\n",
       "    </tr>\n",
       "  </tbody>\n",
       "</table>\n",
       "</div>"
      ],
      "text/plain": [
       "   popularity     budget     revenue                original_title  \\\n",
       "0   32.985763  150000000  1513528810                Jurassic World   \n",
       "1   28.419936  150000000   378436354            Mad Max: Fury Road   \n",
       "2   13.112507  110000000   295238201                     Insurgent   \n",
       "3   11.173104  200000000  2068178225  Star Wars: The Force Awakens   \n",
       "4    9.335014  190000000  1506249360                     Furious 7   \n",
       "\n",
       "                                                cast          director  \\\n",
       "0  Chris Pratt|Bryce Dallas Howard|Irrfan Khan|Vi...   Colin Trevorrow   \n",
       "1  Tom Hardy|Charlize Theron|Hugh Keays-Byrne|Nic...     George Miller   \n",
       "2  Shailene Woodley|Theo James|Kate Winslet|Ansel...  Robert Schwentke   \n",
       "3  Harrison Ford|Mark Hamill|Carrie Fisher|Adam D...       J.J. Abrams   \n",
       "4  Vin Diesel|Paul Walker|Jason Statham|Michelle ...         James Wan   \n",
       "\n",
       "   runtime                                     genres  \\\n",
       "0      124  Action|Adventure|Science Fiction|Thriller   \n",
       "1      120  Action|Adventure|Science Fiction|Thriller   \n",
       "2      119         Adventure|Science Fiction|Thriller   \n",
       "3      136   Action|Adventure|Science Fiction|Fantasy   \n",
       "4      137                      Action|Crime|Thriller   \n",
       "\n",
       "                                production_companies release_date  vote_count  \\\n",
       "0  Universal Studios|Amblin Entertainment|Legenda...       6/9/15        5562   \n",
       "1  Village Roadshow Pictures|Kennedy Miller Produ...      5/13/15        6185   \n",
       "2  Summit Entertainment|Mandeville Films|Red Wago...      3/18/15        2480   \n",
       "3          Lucasfilm|Truenorth Productions|Bad Robot     12/15/15        5292   \n",
       "4  Universal Pictures|Original Film|Media Rights ...       4/1/15        2947   \n",
       "\n",
       "   vote_average  release_year    budget_adj   revenue_adj  vote_popularity  \\\n",
       "0           6.5          2015  1.379999e+08  1.392446e+09     1.192534e+06   \n",
       "1           7.1          2015  1.379999e+08  3.481613e+08     1.248019e+06   \n",
       "2           6.3          2015  1.012000e+08  2.716190e+08     2.048698e+05   \n",
       "3           7.5          2015  1.839999e+08  1.902723e+09     4.434605e+05   \n",
       "4           7.3          2015  1.747999e+08  1.385749e+09     2.008251e+05   \n",
       "\n",
       "     Profit_adj  \n",
       "0  1.254446e+09  \n",
       "1  2.101614e+08  \n",
       "2  1.704191e+08  \n",
       "3  1.718723e+09  \n",
       "4  1.210949e+09  "
      ]
     },
     "execution_count": 11,
     "metadata": {},
     "output_type": "execute_result"
    }
   ],
   "source": [
    "df.head()"
   ]
  },
  {
   "cell_type": "markdown",
   "metadata": {},
   "source": [
    "<a id='eda'></a>\n",
    "## Exploratory Data Analysis\n",
    "\n",
    "\n",
    "\n",
    "### Research Question 1 : What's period that movies released duration?"
   ]
  },
  {
   "cell_type": "code",
   "execution_count": 11,
   "metadata": {},
   "outputs": [
    {
     "data": {
      "text/plain": [
       "'Movies database cover period about 55 years from 1960 to 2015'"
      ]
     },
     "execution_count": 11,
     "metadata": {},
     "output_type": "execute_result"
    }
   ],
   "source": [
    "#Display period of movies database\n",
    "period=df['release_year'].max()-df['release_year'].min()\n",
    "'Movies database cover period about {} years from {} to {}'.format(period,df['release_year'].min(),df['release_year'].max())"
   ]
  },
  {
   "cell_type": "markdown",
   "metadata": {},
   "source": [
    "### Research Question 2 : Which most popular movie weighted by voters and rating number?"
   ]
  },
  {
   "cell_type": "code",
   "execution_count": 12,
   "metadata": {},
   "outputs": [
    {
     "data": {
      "text/html": [
       "<div>\n",
       "<style scoped>\n",
       "    .dataframe tbody tr th:only-of-type {\n",
       "        vertical-align: middle;\n",
       "    }\n",
       "\n",
       "    .dataframe tbody tr th {\n",
       "        vertical-align: top;\n",
       "    }\n",
       "\n",
       "    .dataframe thead th {\n",
       "        text-align: right;\n",
       "    }\n",
       "</style>\n",
       "<table border=\"1\" class=\"dataframe\">\n",
       "  <thead>\n",
       "    <tr style=\"text-align: right;\">\n",
       "      <th></th>\n",
       "      <th>popularity</th>\n",
       "      <th>budget</th>\n",
       "      <th>revenue</th>\n",
       "      <th>original_title</th>\n",
       "      <th>cast</th>\n",
       "      <th>director</th>\n",
       "      <th>runtime</th>\n",
       "      <th>genres</th>\n",
       "      <th>production_companies</th>\n",
       "      <th>release_date</th>\n",
       "      <th>vote_count</th>\n",
       "      <th>vote_average</th>\n",
       "      <th>release_year</th>\n",
       "      <th>budget_adj</th>\n",
       "      <th>revenue_adj</th>\n",
       "      <th>vote_popularity</th>\n",
       "      <th>Profit_adj</th>\n",
       "    </tr>\n",
       "  </thead>\n",
       "  <tbody>\n",
       "    <tr>\n",
       "      <th>629</th>\n",
       "      <td>24.949134</td>\n",
       "      <td>165000000</td>\n",
       "      <td>621752480</td>\n",
       "      <td>Interstellar</td>\n",
       "      <td>Matthew McConaughey|Jessica Chastain|Anne Hath...</td>\n",
       "      <td>Christopher Nolan</td>\n",
       "      <td>169</td>\n",
       "      <td>Adventure|Drama|Science Fiction</td>\n",
       "      <td>Paramount Pictures|Legendary Pictures|Warner B...</td>\n",
       "      <td>2014-11-05</td>\n",
       "      <td>6498</td>\n",
       "      <td>8.0</td>\n",
       "      <td>2014</td>\n",
       "      <td>151980023.0</td>\n",
       "      <td>572690645.0</td>\n",
       "      <td>1.296956e+06</td>\n",
       "      <td>420710622.0</td>\n",
       "    </tr>\n",
       "  </tbody>\n",
       "</table>\n",
       "</div>"
      ],
      "text/plain": [
       "     popularity     budget    revenue original_title  \\\n",
       "629   24.949134  165000000  621752480   Interstellar   \n",
       "\n",
       "                                                  cast           director  \\\n",
       "629  Matthew McConaughey|Jessica Chastain|Anne Hath...  Christopher Nolan   \n",
       "\n",
       "     runtime                           genres  \\\n",
       "629      169  Adventure|Drama|Science Fiction   \n",
       "\n",
       "                                  production_companies release_date  \\\n",
       "629  Paramount Pictures|Legendary Pictures|Warner B...   2014-11-05   \n",
       "\n",
       "     vote_count  vote_average  release_year   budget_adj  revenue_adj  \\\n",
       "629        6498           8.0          2014  151980023.0  572690645.0   \n",
       "\n",
       "     vote_popularity   Profit_adj  \n",
       "629     1.296956e+06  420710622.0  "
      ]
     },
     "execution_count": 12,
     "metadata": {},
     "output_type": "execute_result"
    }
   ],
   "source": [
    "#Display most max. and min. vote popularity and popularity in movies\n",
    "df[df['vote_popularity'] == df['vote_popularity'].max()]"
   ]
  },
  {
   "cell_type": "markdown",
   "metadata": {},
   "source": [
    "**Most popular movie weighted by voters and rating number is \"Interstellar\" in 2014**"
   ]
  },
  {
   "cell_type": "markdown",
   "metadata": {},
   "source": [
    "### Research Question 3 : Which movie with highest or lowest adjusted budget?"
   ]
  },
  {
   "cell_type": "code",
   "execution_count": 13,
   "metadata": {},
   "outputs": [
    {
     "data": {
      "text/html": [
       "<div>\n",
       "<style scoped>\n",
       "    .dataframe tbody tr th:only-of-type {\n",
       "        vertical-align: middle;\n",
       "    }\n",
       "\n",
       "    .dataframe tbody tr th {\n",
       "        vertical-align: top;\n",
       "    }\n",
       "\n",
       "    .dataframe thead th {\n",
       "        text-align: right;\n",
       "    }\n",
       "</style>\n",
       "<table border=\"1\" class=\"dataframe\">\n",
       "  <thead>\n",
       "    <tr style=\"text-align: right;\">\n",
       "      <th></th>\n",
       "      <th>popularity</th>\n",
       "      <th>budget</th>\n",
       "      <th>revenue</th>\n",
       "      <th>original_title</th>\n",
       "      <th>cast</th>\n",
       "      <th>director</th>\n",
       "      <th>runtime</th>\n",
       "      <th>genres</th>\n",
       "      <th>production_companies</th>\n",
       "      <th>release_date</th>\n",
       "      <th>vote_count</th>\n",
       "      <th>vote_average</th>\n",
       "      <th>release_year</th>\n",
       "      <th>budget_adj</th>\n",
       "      <th>revenue_adj</th>\n",
       "      <th>vote_popularity</th>\n",
       "      <th>Profit_adj</th>\n",
       "    </tr>\n",
       "  </thead>\n",
       "  <tbody>\n",
       "    <tr>\n",
       "      <th>2244</th>\n",
       "      <td>0.250540</td>\n",
       "      <td>425000000</td>\n",
       "      <td>11087569</td>\n",
       "      <td>The Warrior's Way</td>\n",
       "      <td>Kate Bosworth|Jang Dong-gun|Geoffrey Rush|Dann...</td>\n",
       "      <td>Sngmoo Lee</td>\n",
       "      <td>100</td>\n",
       "      <td>Adventure|Fantasy|Action|Western|Thriller</td>\n",
       "      <td>Boram Entertainment Inc.</td>\n",
       "      <td>2010-12-02</td>\n",
       "      <td>74</td>\n",
       "      <td>6.4</td>\n",
       "      <td>2010</td>\n",
       "      <td>425000000.0</td>\n",
       "      <td>11087569.0</td>\n",
       "      <td>118.655744</td>\n",
       "      <td>-413912431.0</td>\n",
       "    </tr>\n",
       "    <tr>\n",
       "      <th>2618</th>\n",
       "      <td>0.090186</td>\n",
       "      <td>1</td>\n",
       "      <td>100</td>\n",
       "      <td>Lost &amp; Found</td>\n",
       "      <td>David Spade|Sophie Marceau|Ever Carradine|Step...</td>\n",
       "      <td>Jeff Pollack</td>\n",
       "      <td>95</td>\n",
       "      <td>Comedy|Romance</td>\n",
       "      <td>Alcon Entertainment|Dinamo Entertainment</td>\n",
       "      <td>1999-04-23</td>\n",
       "      <td>14</td>\n",
       "      <td>4.8</td>\n",
       "      <td>1999</td>\n",
       "      <td>1.0</td>\n",
       "      <td>130.0</td>\n",
       "      <td>6.060499</td>\n",
       "      <td>129.0</td>\n",
       "    </tr>\n",
       "  </tbody>\n",
       "</table>\n",
       "</div>"
      ],
      "text/plain": [
       "      popularity     budget   revenue     original_title  \\\n",
       "2244    0.250540  425000000  11087569  The Warrior's Way   \n",
       "2618    0.090186          1       100       Lost & Found   \n",
       "\n",
       "                                                   cast      director  \\\n",
       "2244  Kate Bosworth|Jang Dong-gun|Geoffrey Rush|Dann...    Sngmoo Lee   \n",
       "2618  David Spade|Sophie Marceau|Ever Carradine|Step...  Jeff Pollack   \n",
       "\n",
       "      runtime                                     genres  \\\n",
       "2244      100  Adventure|Fantasy|Action|Western|Thriller   \n",
       "2618       95                             Comedy|Romance   \n",
       "\n",
       "                          production_companies release_date  vote_count  \\\n",
       "2244                  Boram Entertainment Inc.   2010-12-02          74   \n",
       "2618  Alcon Entertainment|Dinamo Entertainment   1999-04-23          14   \n",
       "\n",
       "      vote_average  release_year   budget_adj  revenue_adj  vote_popularity  \\\n",
       "2244           6.4          2010  425000000.0   11087569.0       118.655744   \n",
       "2618           4.8          1999          1.0        130.0         6.060499   \n",
       "\n",
       "       Profit_adj  \n",
       "2244 -413912431.0  \n",
       "2618        129.0  "
      ]
     },
     "execution_count": 13,
     "metadata": {},
     "output_type": "execute_result"
    }
   ],
   "source": [
    "#Display most max. and min. adjusted budget in movies\n",
    "higher_budget_adj=df[df['budget_adj'] == df['budget_adj'].max()]\n",
    "lower_budget_adj=df[df['budget_adj'] == df['budget_adj'].min()]\n",
    "pd.concat([higher_budget_adj, lower_budget_adj], axis=0)"
   ]
  },
  {
   "cell_type": "markdown",
   "metadata": {},
   "source": [
    "**Movie with highest adjusted budget is \"The Warrior's Way\" in 2010 and lowest one is \"Love, Wedding, Marriage\" in 2011**"
   ]
  },
  {
   "cell_type": "markdown",
   "metadata": {},
   "source": [
    "### Research Question 4 : Which movie made the highest and lowest adjusted revenue ?"
   ]
  },
  {
   "cell_type": "code",
   "execution_count": 14,
   "metadata": {
    "scrolled": true
   },
   "outputs": [
    {
     "data": {
      "text/html": [
       "<div>\n",
       "<style scoped>\n",
       "    .dataframe tbody tr th:only-of-type {\n",
       "        vertical-align: middle;\n",
       "    }\n",
       "\n",
       "    .dataframe tbody tr th {\n",
       "        vertical-align: top;\n",
       "    }\n",
       "\n",
       "    .dataframe thead th {\n",
       "        text-align: right;\n",
       "    }\n",
       "</style>\n",
       "<table border=\"1\" class=\"dataframe\">\n",
       "  <thead>\n",
       "    <tr style=\"text-align: right;\">\n",
       "      <th></th>\n",
       "      <th>popularity</th>\n",
       "      <th>budget</th>\n",
       "      <th>revenue</th>\n",
       "      <th>original_title</th>\n",
       "      <th>cast</th>\n",
       "      <th>director</th>\n",
       "      <th>runtime</th>\n",
       "      <th>genres</th>\n",
       "      <th>production_companies</th>\n",
       "      <th>release_date</th>\n",
       "      <th>vote_count</th>\n",
       "      <th>vote_average</th>\n",
       "      <th>release_year</th>\n",
       "      <th>budget_adj</th>\n",
       "      <th>revenue_adj</th>\n",
       "      <th>vote_popularity</th>\n",
       "      <th>Profit_adj</th>\n",
       "    </tr>\n",
       "  </thead>\n",
       "  <tbody>\n",
       "    <tr>\n",
       "      <th>1386</th>\n",
       "      <td>9.432768</td>\n",
       "      <td>237000000</td>\n",
       "      <td>2781505847</td>\n",
       "      <td>Avatar</td>\n",
       "      <td>Sam Worthington|Zoe Saldana|Sigourney Weaver|S...</td>\n",
       "      <td>James Cameron</td>\n",
       "      <td>162</td>\n",
       "      <td>Action|Adventure|Fantasy|Science Fiction</td>\n",
       "      <td>Ingenious Film Partners|Twentieth Century Fox ...</td>\n",
       "      <td>2009-12-10</td>\n",
       "      <td>8458</td>\n",
       "      <td>7.1</td>\n",
       "      <td>2009</td>\n",
       "      <td>240886902.0</td>\n",
       "      <td>2.827124e+09</td>\n",
       "      <td>566454.697382</td>\n",
       "      <td>2.586237e+09</td>\n",
       "    </tr>\n",
       "    <tr>\n",
       "      <th>5067</th>\n",
       "      <td>0.462609</td>\n",
       "      <td>6000000</td>\n",
       "      <td>2</td>\n",
       "      <td>Shattered Glass</td>\n",
       "      <td>Hayden Christensen|Peter Sarsgaard|ChloÃ« Sevi...</td>\n",
       "      <td>Billy Ray</td>\n",
       "      <td>94</td>\n",
       "      <td>Drama|History</td>\n",
       "      <td>Lions Gate Films|Cruise/Wagner Productions|Bau...</td>\n",
       "      <td>2003-11-14</td>\n",
       "      <td>46</td>\n",
       "      <td>6.4</td>\n",
       "      <td>2003</td>\n",
       "      <td>7112115.0</td>\n",
       "      <td>2.000000e+00</td>\n",
       "      <td>136.192090</td>\n",
       "      <td>-7.112113e+06</td>\n",
       "    </tr>\n",
       "    <tr>\n",
       "      <th>8142</th>\n",
       "      <td>0.552091</td>\n",
       "      <td>6000000</td>\n",
       "      <td>2</td>\n",
       "      <td>Mallrats</td>\n",
       "      <td>Jason Lee|Jeremy London|Shannen Doherty|Claire...</td>\n",
       "      <td>Kevin Smith</td>\n",
       "      <td>94</td>\n",
       "      <td>Romance|Comedy</td>\n",
       "      <td>Gramercy Pictures|Alphaville Films|View Askew ...</td>\n",
       "      <td>1995-10-20</td>\n",
       "      <td>201</td>\n",
       "      <td>6.8</td>\n",
       "      <td>1995</td>\n",
       "      <td>8585801.0</td>\n",
       "      <td>2.000000e+00</td>\n",
       "      <td>754.597979</td>\n",
       "      <td>-8.585799e+06</td>\n",
       "    </tr>\n",
       "  </tbody>\n",
       "</table>\n",
       "</div>"
      ],
      "text/plain": [
       "      popularity     budget     revenue   original_title  \\\n",
       "1386    9.432768  237000000  2781505847           Avatar   \n",
       "5067    0.462609    6000000           2  Shattered Glass   \n",
       "8142    0.552091    6000000           2         Mallrats   \n",
       "\n",
       "                                                   cast       director  \\\n",
       "1386  Sam Worthington|Zoe Saldana|Sigourney Weaver|S...  James Cameron   \n",
       "5067  Hayden Christensen|Peter Sarsgaard|ChloÃ« Sevi...      Billy Ray   \n",
       "8142  Jason Lee|Jeremy London|Shannen Doherty|Claire...    Kevin Smith   \n",
       "\n",
       "      runtime                                    genres  \\\n",
       "1386      162  Action|Adventure|Fantasy|Science Fiction   \n",
       "5067       94                             Drama|History   \n",
       "8142       94                            Romance|Comedy   \n",
       "\n",
       "                                   production_companies release_date  \\\n",
       "1386  Ingenious Film Partners|Twentieth Century Fox ...   2009-12-10   \n",
       "5067  Lions Gate Films|Cruise/Wagner Productions|Bau...   2003-11-14   \n",
       "8142  Gramercy Pictures|Alphaville Films|View Askew ...   1995-10-20   \n",
       "\n",
       "      vote_count  vote_average  release_year   budget_adj   revenue_adj  \\\n",
       "1386        8458           7.1          2009  240886902.0  2.827124e+09   \n",
       "5067          46           6.4          2003    7112115.0  2.000000e+00   \n",
       "8142         201           6.8          1995    8585801.0  2.000000e+00   \n",
       "\n",
       "      vote_popularity    Profit_adj  \n",
       "1386    566454.697382  2.586237e+09  \n",
       "5067       136.192090 -7.112113e+06  \n",
       "8142       754.597979 -8.585799e+06  "
      ]
     },
     "execution_count": 14,
     "metadata": {},
     "output_type": "execute_result"
    }
   ],
   "source": [
    "#Display most max. and min. adjusted revenue in movies\n",
    "higher_revenue_adj=df[df['revenue_adj'] == df['revenue_adj'].max()]\n",
    "lower_revenue_adj=df[df['revenue_adj'] == df['revenue_adj'].min()]\n",
    "pd.concat([higher_revenue_adj, lower_revenue_adj], axis=0)"
   ]
  },
  {
   "cell_type": "markdown",
   "metadata": {},
   "source": [
    "**Movie with highest adjusted revenue is \"Avatar\" in 2009 and lowest one is \"Shattered Glass\n",
    "\" in 2003**"
   ]
  },
  {
   "cell_type": "markdown",
   "metadata": {},
   "source": [
    "### Research Question 5 : Which movie Has the highest or lowest adjusted profit?"
   ]
  },
  {
   "cell_type": "code",
   "execution_count": 15,
   "metadata": {},
   "outputs": [
    {
     "data": {
      "text/html": [
       "<div>\n",
       "<style scoped>\n",
       "    .dataframe tbody tr th:only-of-type {\n",
       "        vertical-align: middle;\n",
       "    }\n",
       "\n",
       "    .dataframe tbody tr th {\n",
       "        vertical-align: top;\n",
       "    }\n",
       "\n",
       "    .dataframe thead th {\n",
       "        text-align: right;\n",
       "    }\n",
       "</style>\n",
       "<table border=\"1\" class=\"dataframe\">\n",
       "  <thead>\n",
       "    <tr style=\"text-align: right;\">\n",
       "      <th></th>\n",
       "      <th>popularity</th>\n",
       "      <th>budget</th>\n",
       "      <th>revenue</th>\n",
       "      <th>original_title</th>\n",
       "      <th>cast</th>\n",
       "      <th>director</th>\n",
       "      <th>runtime</th>\n",
       "      <th>genres</th>\n",
       "      <th>production_companies</th>\n",
       "      <th>release_date</th>\n",
       "      <th>vote_count</th>\n",
       "      <th>vote_average</th>\n",
       "      <th>release_year</th>\n",
       "      <th>budget_adj</th>\n",
       "      <th>revenue_adj</th>\n",
       "      <th>vote_popularity</th>\n",
       "      <th>Profit_adj</th>\n",
       "    </tr>\n",
       "  </thead>\n",
       "  <tbody>\n",
       "    <tr>\n",
       "      <th>1329</th>\n",
       "      <td>12.037933</td>\n",
       "      <td>11000000</td>\n",
       "      <td>775398007</td>\n",
       "      <td>Star Wars</td>\n",
       "      <td>Mark Hamill|Harrison Ford|Carrie Fisher|Peter ...</td>\n",
       "      <td>George Lucas</td>\n",
       "      <td>121</td>\n",
       "      <td>Adventure|Action|Science Fiction</td>\n",
       "      <td>Lucasfilm|Twentieth Century Fox Film Corporation</td>\n",
       "      <td>1977-03-20</td>\n",
       "      <td>4428</td>\n",
       "      <td>7.9</td>\n",
       "      <td>1977</td>\n",
       "      <td>39575591.0</td>\n",
       "      <td>2.789712e+09</td>\n",
       "      <td>421101.341860</td>\n",
       "      <td>2.750137e+09</td>\n",
       "    </tr>\n",
       "    <tr>\n",
       "      <th>2244</th>\n",
       "      <td>0.250540</td>\n",
       "      <td>425000000</td>\n",
       "      <td>11087569</td>\n",
       "      <td>The Warrior's Way</td>\n",
       "      <td>Kate Bosworth|Jang Dong-gun|Geoffrey Rush|Dann...</td>\n",
       "      <td>Sngmoo Lee</td>\n",
       "      <td>100</td>\n",
       "      <td>Adventure|Fantasy|Action|Western|Thriller</td>\n",
       "      <td>Boram Entertainment Inc.</td>\n",
       "      <td>2010-12-02</td>\n",
       "      <td>74</td>\n",
       "      <td>6.4</td>\n",
       "      <td>2010</td>\n",
       "      <td>425000000.0</td>\n",
       "      <td>1.108757e+07</td>\n",
       "      <td>118.655744</td>\n",
       "      <td>-4.139124e+08</td>\n",
       "    </tr>\n",
       "  </tbody>\n",
       "</table>\n",
       "</div>"
      ],
      "text/plain": [
       "      popularity     budget    revenue     original_title  \\\n",
       "1329   12.037933   11000000  775398007          Star Wars   \n",
       "2244    0.250540  425000000   11087569  The Warrior's Way   \n",
       "\n",
       "                                                   cast      director  \\\n",
       "1329  Mark Hamill|Harrison Ford|Carrie Fisher|Peter ...  George Lucas   \n",
       "2244  Kate Bosworth|Jang Dong-gun|Geoffrey Rush|Dann...    Sngmoo Lee   \n",
       "\n",
       "      runtime                                     genres  \\\n",
       "1329      121           Adventure|Action|Science Fiction   \n",
       "2244      100  Adventure|Fantasy|Action|Western|Thriller   \n",
       "\n",
       "                                  production_companies release_date  \\\n",
       "1329  Lucasfilm|Twentieth Century Fox Film Corporation   1977-03-20   \n",
       "2244                          Boram Entertainment Inc.   2010-12-02   \n",
       "\n",
       "      vote_count  vote_average  release_year   budget_adj   revenue_adj  \\\n",
       "1329        4428           7.9          1977   39575591.0  2.789712e+09   \n",
       "2244          74           6.4          2010  425000000.0  1.108757e+07   \n",
       "\n",
       "      vote_popularity    Profit_adj  \n",
       "1329    421101.341860  2.750137e+09  \n",
       "2244       118.655744 -4.139124e+08  "
      ]
     },
     "execution_count": 15,
     "metadata": {},
     "output_type": "execute_result"
    }
   ],
   "source": [
    "#Display most max. and min. adjusted Profit in movies\n",
    "higher_profit_adj=df[df['Profit_adj'] == df['Profit_adj'].max()]\n",
    "lower_profit_adj=df[df['Profit_adj'] == df['Profit_adj'].min()]\n",
    "pd.concat([higher_profit_adj, lower_profit_adj], axis=0)"
   ]
  },
  {
   "cell_type": "markdown",
   "metadata": {},
   "source": [
    "**Movie with highest adjusted profit is \"Star Wars\" in 1977 and lowest one is \"The Warrior's Way\" in 2010**"
   ]
  },
  {
   "cell_type": "markdown",
   "metadata": {},
   "source": [
    "### Research Question 6 : Which movie has longest and shorest runtime?"
   ]
  },
  {
   "cell_type": "code",
   "execution_count": 16,
   "metadata": {},
   "outputs": [
    {
     "data": {
      "text/html": [
       "<div>\n",
       "<style scoped>\n",
       "    .dataframe tbody tr th:only-of-type {\n",
       "        vertical-align: middle;\n",
       "    }\n",
       "\n",
       "    .dataframe tbody tr th {\n",
       "        vertical-align: top;\n",
       "    }\n",
       "\n",
       "    .dataframe thead th {\n",
       "        text-align: right;\n",
       "    }\n",
       "</style>\n",
       "<table border=\"1\" class=\"dataframe\">\n",
       "  <thead>\n",
       "    <tr style=\"text-align: right;\">\n",
       "      <th></th>\n",
       "      <th>popularity</th>\n",
       "      <th>budget</th>\n",
       "      <th>revenue</th>\n",
       "      <th>original_title</th>\n",
       "      <th>cast</th>\n",
       "      <th>director</th>\n",
       "      <th>runtime</th>\n",
       "      <th>genres</th>\n",
       "      <th>production_companies</th>\n",
       "      <th>release_date</th>\n",
       "      <th>vote_count</th>\n",
       "      <th>vote_average</th>\n",
       "      <th>release_year</th>\n",
       "      <th>budget_adj</th>\n",
       "      <th>revenue_adj</th>\n",
       "      <th>vote_popularity</th>\n",
       "      <th>Profit_adj</th>\n",
       "    </tr>\n",
       "  </thead>\n",
       "  <tbody>\n",
       "    <tr>\n",
       "      <th>2107</th>\n",
       "      <td>0.534192</td>\n",
       "      <td>18000000</td>\n",
       "      <td>871279</td>\n",
       "      <td>Carlos</td>\n",
       "      <td>Edgar RamÃ­rez|Alexander Scheer|Fadi Abi Samra...</td>\n",
       "      <td>Olivier Assayas</td>\n",
       "      <td>338</td>\n",
       "      <td>Crime|Drama|Thriller|History</td>\n",
       "      <td>Egoli Tossell Film AG|Canal+|Arte France|Films...</td>\n",
       "      <td>2010-05-19</td>\n",
       "      <td>35</td>\n",
       "      <td>6.2</td>\n",
       "      <td>2010</td>\n",
       "      <td>18000000.0</td>\n",
       "      <td>871279.0</td>\n",
       "      <td>115.919664</td>\n",
       "      <td>-17128721.0</td>\n",
       "    </tr>\n",
       "    <tr>\n",
       "      <th>5162</th>\n",
       "      <td>0.208637</td>\n",
       "      <td>10</td>\n",
       "      <td>5</td>\n",
       "      <td>Kid's Story</td>\n",
       "      <td>Clayton Watson|Keanu Reeves|Carrie-Anne Moss|K...</td>\n",
       "      <td>Shinichiro Watanabe</td>\n",
       "      <td>15</td>\n",
       "      <td>Science Fiction|Animation</td>\n",
       "      <td>Studio 4Â°C</td>\n",
       "      <td>2003-06-02</td>\n",
       "      <td>16</td>\n",
       "      <td>6.8</td>\n",
       "      <td>2003</td>\n",
       "      <td>11.0</td>\n",
       "      <td>5.0</td>\n",
       "      <td>22.699706</td>\n",
       "      <td>-6.0</td>\n",
       "    </tr>\n",
       "  </tbody>\n",
       "</table>\n",
       "</div>"
      ],
      "text/plain": [
       "      popularity    budget  revenue original_title  \\\n",
       "2107    0.534192  18000000   871279         Carlos   \n",
       "5162    0.208637        10        5    Kid's Story   \n",
       "\n",
       "                                                   cast             director  \\\n",
       "2107  Edgar RamÃ­rez|Alexander Scheer|Fadi Abi Samra...      Olivier Assayas   \n",
       "5162  Clayton Watson|Keanu Reeves|Carrie-Anne Moss|K...  Shinichiro Watanabe   \n",
       "\n",
       "      runtime                        genres  \\\n",
       "2107      338  Crime|Drama|Thriller|History   \n",
       "5162       15     Science Fiction|Animation   \n",
       "\n",
       "                                   production_companies release_date  \\\n",
       "2107  Egoli Tossell Film AG|Canal+|Arte France|Films...   2010-05-19   \n",
       "5162                                        Studio 4Â°C   2003-06-02   \n",
       "\n",
       "      vote_count  vote_average  release_year  budget_adj  revenue_adj  \\\n",
       "2107          35           6.2          2010  18000000.0     871279.0   \n",
       "5162          16           6.8          2003        11.0          5.0   \n",
       "\n",
       "      vote_popularity  Profit_adj  \n",
       "2107       115.919664 -17128721.0  \n",
       "5162        22.699706        -6.0  "
      ]
     },
     "execution_count": 16,
     "metadata": {},
     "output_type": "execute_result"
    }
   ],
   "source": [
    "#Display most max. and min. runtime of movies\n",
    "longest_runtime=df[df['runtime'] == df['runtime'].max()]\n",
    "shortest_runtime=df[df['runtime'] == df['runtime'].min()]\n",
    "pd.concat([longest_runtime, shortest_runtime], axis=0)"
   ]
  },
  {
   "cell_type": "markdown",
   "metadata": {},
   "source": [
    "**Movie with longest runtime is \"Carlos\" in 2010 and lowest one is \"Kid's Story\" in 2003**"
   ]
  },
  {
   "cell_type": "markdown",
   "metadata": {},
   "source": [
    "### Research Question 7 : What's avearage runtime of movies?"
   ]
  },
  {
   "cell_type": "code",
   "execution_count": 18,
   "metadata": {},
   "outputs": [
    {
     "data": {
      "text/plain": [
       "count    3853.000000\n",
       "mean      109.225279\n",
       "std        19.922999\n",
       "min        15.000000\n",
       "25%        95.000000\n",
       "50%       106.000000\n",
       "75%       119.000000\n",
       "max       338.000000\n",
       "Name: runtime, dtype: float64"
      ]
     },
     "execution_count": 18,
     "metadata": {},
     "output_type": "execute_result"
    }
   ],
   "source": [
    "#Display runtime of movies statistics\n",
    "df['runtime'].describe()"
   ]
  },
  {
   "cell_type": "code",
   "execution_count": 42,
   "metadata": {},
   "outputs": [
    {
     "data": {
      "image/png": "[encoded data removed]",
      "text/plain": [
       "<matplotlib.figure.Figure at 0x7ff07ba12128>"
      ]
     },
     "metadata": {
      "needs_background": "light"
     },
     "output_type": "display_data"
    }
   ],
   "source": [
    "\n",
    "df['runtime'].plot(kind='hist',figsize=(12,6),fontsize=11)\n",
    "plt.xlabel('Genres',fontsize=11)\n",
    "plt.xticks(rotation=70)\n",
    "plt.ylabel('Movies count',fontsize=14)\n",
    "plt.title('Most genres release of movies',fontsize=16)\n",
    "plt.show()"
   ]
  },
  {
   "cell_type": "markdown",
   "metadata": {},
   "source": [
    "**Avearage runtime of movies is nearly 109 minutes**"
   ]
  },
  {
   "cell_type": "markdown",
   "metadata": {},
   "source": [
    "### Research Question 8 : Which year has the highest count release of movies?"
   ]
  },
  {
   "cell_type": "code",
   "execution_count": 19,
   "metadata": {
    "scrolled": true
   },
   "outputs": [
    {
     "data": {
      "text/plain": [
       "2011    198\n",
       "2013    180\n",
       "2010    178\n",
       "2009    174\n",
       "2006    169\n",
       "2008    167\n",
       "2014    165\n",
       "2007    165\n",
       "2005    163\n",
       "2015    160\n",
       "2012    158\n",
       "2004    147\n",
       "2002    127\n",
       "2003    121\n",
       "2001    121\n",
       "1999    116\n",
       "2000    106\n",
       "1998     92\n",
       "1997     90\n",
       "1996     86\n",
       "1995     81\n",
       "1993     72\n",
       "1994     62\n",
       "1988     57\n",
       "1990     53\n",
       "1992     53\n",
       "1989     51\n",
       "1991     50\n",
       "1986     48\n",
       "1987     46\n",
       "1984     42\n",
       "1985     41\n",
       "1983     31\n",
       "1981     30\n",
       "1982     26\n",
       "1980     23\n",
       "1977     19\n",
       "1978     17\n",
       "1979     16\n",
       "1976     15\n",
       "1971     13\n",
       "1967     13\n",
       "1974     13\n",
       "1973     12\n",
       "1970     11\n",
       "1961     10\n",
       "1975      9\n",
       "1968      9\n",
       "1972      8\n",
       "1964      7\n",
       "1962      7\n",
       "1963      6\n",
       "1965      5\n",
       "1966      5\n",
       "1960      5\n",
       "1969      4\n",
       "Name: release_year, dtype: int64"
      ]
     },
     "execution_count": 19,
     "metadata": {},
     "output_type": "execute_result"
    }
   ],
   "source": [
    "#Display Most count of movies yearly\n",
    "movies_count=df['release_year'].value_counts()\n",
    "movies_count"
   ]
  },
  {
   "cell_type": "code",
   "execution_count": 102,
   "metadata": {},
   "outputs": [
    {
     "data": {
      "image/png": "[encoded data removed]",
      "text/plain": [
       "<matplotlib.figure.Figure at 0x7f60b58d3240>"
      ]
     },
     "metadata": {
      "needs_background": "light"
     },
     "output_type": "display_data"
    }
   ],
   "source": [
    "#Make chart as visual display for most count of movies yearly\n",
    "movies_count.plot(kind='bar',figsize=(17,6),fontsize=11)\n",
    "plt.xlabel('year',fontsize=11)\n",
    "plt.xticks(rotation=70)\n",
    "plt.ylabel('Movies count',fontsize=14)\n",
    "plt.title('Movies Yearly',fontsize=16)\n",
    "plt.show()"
   ]
  },
  {
   "cell_type": "markdown",
   "metadata": {},
   "source": [
    "**The year has the highest count release of movies is 2011 with 198 movies in it**"
   ]
  },
  {
   "cell_type": "markdown",
   "metadata": {},
   "source": [
    "### Research Question 9 : Which year has the highest adjusted profit?"
   ]
  },
  {
   "cell_type": "code",
   "execution_count": 20,
   "metadata": {},
   "outputs": [
    {
     "data": {
      "text/plain": [
       "release_year\n",
       "2015    1.750957e+10\n",
       "2012    1.576276e+10\n",
       "2014    1.536030e+10\n",
       "2013    1.477317e+10\n",
       "2011    1.450868e+10\n",
       "2009    1.430005e+10\n",
       "2010    1.334122e+10\n",
       "2007    1.228991e+10\n",
       "2008    1.199481e+10\n",
       "2004    1.133955e+10\n",
       "2002    1.091592e+10\n",
       "2003    1.090780e+10\n",
       "2005    1.033877e+10\n",
       "2001    9.879053e+09\n",
       "2006    9.438970e+09\n",
       "1997    8.667305e+09\n",
       "1999    8.421411e+09\n",
       "1995    8.025003e+09\n",
       "2000    7.738026e+09\n",
       "1998    7.055200e+09\n",
       "1994    6.920674e+09\n",
       "1993    6.907075e+09\n",
       "1996    6.584938e+09\n",
       "1989    6.339278e+09\n",
       "1977    6.272042e+09\n",
       "1992    6.018808e+09\n",
       "1990    5.765886e+09\n",
       "1973    5.194465e+09\n",
       "1991    4.880325e+09\n",
       "1988    4.265061e+09\n",
       "1967    4.159569e+09\n",
       "1987    4.123234e+09\n",
       "1982    4.093921e+09\n",
       "1984    3.848464e+09\n",
       "1985    3.379081e+09\n",
       "1978    3.359749e+09\n",
       "1986    3.313068e+09\n",
       "1983    3.295076e+09\n",
       "1975    3.274711e+09\n",
       "1981    3.166215e+09\n",
       "1974    2.877058e+09\n",
       "1979    2.855318e+09\n",
       "1965    2.763256e+09\n",
       "1980    2.651503e+09\n",
       "1970    2.550225e+09\n",
       "1976    2.411772e+09\n",
       "1972    2.384285e+09\n",
       "1961    2.181770e+09\n",
       "1964    2.071668e+09\n",
       "1971    1.810959e+09\n",
       "1969    1.229648e+09\n",
       "1962    1.202945e+09\n",
       "1968    1.054890e+09\n",
       "1963    8.217533e+08\n",
       "1960    7.977407e+08\n",
       "1966    3.524854e+08\n",
       "Name: Profit_adj, dtype: float64"
      ]
     },
     "execution_count": 20,
     "metadata": {},
     "output_type": "execute_result"
    }
   ],
   "source": [
    "#Display Most Adjusted profit of movies yearly\n",
    "most_profit_year = df.groupby('release_year')['Profit_adj'].sum()\n",
    "most_profit_year.sort_values(ascending=False)"
   ]
  },
  {
   "cell_type": "code",
   "execution_count": 21,
   "metadata": {},
   "outputs": [
    {
     "data": {
      "image/png": "[encoded data removed]",
      "text/plain": [
       "<matplotlib.figure.Figure at 0x7ff0892dbb70>"
      ]
     },
     "metadata": {
      "needs_background": "light"
     },
     "output_type": "display_data"
    }
   ],
   "source": [
    "#Make chart as visual display for most adjusted profit movies yearly\n",
    "most_profit_year.plot(kind='line',figsize=(17,6),fontsize=11)\n",
    "plt.xlabel('Release Year',fontsize=14)\n",
    "plt.xticks(rotation=70)\n",
    "plt.ylabel('Adjusted Profit',fontsize=11)\n",
    "plt.title('Adjusted Profit Yearly',fontsize=16)\n",
    "plt.show()"
   ]
  },
  {
   "cell_type": "markdown",
   "metadata": {},
   "source": [
    "**The year has the highest adjusted profit is 2015 with nearly 17.5 billion Dollar**"
   ]
  },
  {
   "cell_type": "markdown",
   "metadata": {},
   "source": [
    "### Research Question 10 : Which genre has the most count of released movies?"
   ]
  },
  {
   "cell_type": "code",
   "execution_count": 22,
   "metadata": {},
   "outputs": [
    {
     "data": {
      "text/plain": [
       "Drama              1756\n",
       "Comedy             1357\n",
       "Thriller           1204\n",
       "Action             1085\n",
       "Adventure           749\n",
       "Romance             666\n",
       "Crime               651\n",
       "Science Fiction     519\n",
       "Horror              463\n",
       "Family              425\n",
       "Fantasy             396\n",
       "Mystery             344\n",
       "Animation           201\n",
       "Music               136\n",
       "History             129\n",
       "War                 119\n",
       "Western              52\n",
       "Documentary          35\n",
       "Foreign              13\n",
       "TV Movie              1\n",
       "dtype: int64"
      ]
     },
     "execution_count": 22,
     "metadata": {},
     "output_type": "execute_result"
    }
   ],
   "source": [
    "#Display most genres release of movies\n",
    "genres_count=pd.Series(df['genres'].str.cat(sep = '|').split('|')).value_counts()\n",
    "genres_count"
   ]
  },
  {
   "cell_type": "code",
   "execution_count": 112,
   "metadata": {},
   "outputs": [
    {
     "data": {
      "image/png": "[encoded data removed]",
      "text/plain": [
       "<matplotlib.figure.Figure at 0x7f60b2dd9588>"
      ]
     },
     "metadata": {
      "needs_background": "light"
     },
     "output_type": "display_data"
    }
   ],
   "source": [
    "#Make chart as visual display for most genres count of movies\n",
    "genres_count.plot(kind='bar',figsize=(17,6),fontsize=11)\n",
    "plt.xlabel('Genres',fontsize=11)\n",
    "plt.xticks(rotation=70)\n",
    "plt.ylabel('Movies count',fontsize=14)\n",
    "plt.title('Most genres release of movies',fontsize=16)\n",
    "plt.show()"
   ]
  },
  {
   "cell_type": "markdown",
   "metadata": {},
   "source": [
    "**The genre has the most count of released movies is \"Drama\" with 1755 movies**"
   ]
  },
  {
   "cell_type": "markdown",
   "metadata": {},
   "source": [
    "### Research Question 11 : Which most star acted in movies?"
   ]
  },
  {
   "cell_type": "code",
   "execution_count": 23,
   "metadata": {},
   "outputs": [
    {
     "data": {
      "text/plain": [
       "Robert De Niro        52\n",
       "Bruce Willis          46\n",
       "Samuel L. Jackson     44\n",
       "Nicolas Cage          43\n",
       "Matt Damon            36\n",
       "Johnny Depp           35\n",
       "Morgan Freeman        34\n",
       "Harrison Ford         34\n",
       "Sylvester Stallone    34\n",
       "Tom Hanks             34\n",
       "Brad Pitt             34\n",
       "Tom Cruise            33\n",
       "Eddie Murphy          32\n",
       "Denzel Washington     32\n",
       "Liam Neeson           31\n",
       "Julianne Moore        30\n",
       "Owen Wilson           30\n",
       "Meryl Streep          29\n",
       "Willem Dafoe          29\n",
       "Mark Wahlberg         29\n",
       "dtype: int64"
      ]
     },
     "execution_count": 23,
     "metadata": {},
     "output_type": "execute_result"
    }
   ],
   "source": [
    "#Display Most 20 actors played in movies\n",
    "cast_count=pd.Series(df['cast'].str.cat(sep = '|').split('|')).value_counts().iloc[:20]\n",
    "cast_count"
   ]
  },
  {
   "cell_type": "code",
   "execution_count": 113,
   "metadata": {},
   "outputs": [
    {
     "data": {
      "image/png": "[encoded data removed]",
      "text/plain": [
       "<matplotlib.figure.Figure at 0x7f60b2d0e710>"
      ]
     },
     "metadata": {
      "needs_background": "light"
     },
     "output_type": "display_data"
    }
   ],
   "source": [
    "#Make chart as visual display for most 20 actor play in movies\n",
    "cast_count.plot(kind='bar',figsize=(17,6),fontsize=11)\n",
    "plt.xlabel('Actor',fontsize=11)\n",
    "plt.xticks(rotation=70)\n",
    "plt.ylabel('Movies count',fontsize=14)\n",
    "plt.title('Most 20 actor play in movies',fontsize=16)\n",
    "plt.show()"
   ]
  },
  {
   "cell_type": "markdown",
   "metadata": {},
   "source": [
    "**Which most star acted in movies is \"Robert De Niro\" with 52 movies**"
   ]
  },
  {
   "cell_type": "markdown",
   "metadata": {},
   "source": [
    "### Research Question 12 : Which is production company with highest number of released movies?"
   ]
  },
  {
   "cell_type": "code",
   "execution_count": 24,
   "metadata": {},
   "outputs": [
    {
     "data": {
      "text/plain": [
       "Universal Pictures                        329\n",
       "Warner Bros.                              324\n",
       "Paramount Pictures                        270\n",
       "Twentieth Century Fox Film Corporation    201\n",
       "Columbia Pictures                         178\n",
       "New Line Cinema                           152\n",
       "Walt Disney Pictures                      117\n",
       "Touchstone Pictures                       116\n",
       "Metro-Goldwyn-Mayer (MGM)                 109\n",
       "Relativity Media                          102\n",
       "Columbia Pictures Corporation             101\n",
       "Miramax Films                              83\n",
       "TriStar Pictures                           75\n",
       "Village Roadshow Pictures                  74\n",
       "DreamWorks SKG                             73\n",
       "Regency Enterprises                        69\n",
       "Dimension Films                            51\n",
       "Summit Entertainment                       50\n",
       "Amblin Entertainment                       50\n",
       "Dune Entertainment                         49\n",
       "dtype: int64"
      ]
     },
     "execution_count": 24,
     "metadata": {},
     "output_type": "execute_result"
    }
   ],
   "source": [
    "#Display Most 20 production companies\n",
    "most_production_companies=pd.Series(df['production_companies'].str.cat(sep = '|').split('|')).value_counts().iloc[:20]\n",
    "most_production_companies"
   ]
  },
  {
   "cell_type": "code",
   "execution_count": 116,
   "metadata": {},
   "outputs": [
    {
     "data": {
      "image/png": "[encoded data removed]",
      "text/plain": [
       "<matplotlib.figure.Figure at 0x7f60b2b86860>"
      ]
     },
     "metadata": {
      "needs_background": "light"
     },
     "output_type": "display_data"
    }
   ],
   "source": [
    "#Make chart as visual display for most 20 production companies\n",
    "most_production_companies.plot(kind='bar',figsize=(17,6),fontsize=11)\n",
    "plt.xlabel('Production Companies',fontsize=10)\n",
    "plt.xticks(rotation=70)\n",
    "plt.ylabel('Movies count',fontsize=14)\n",
    "plt.title('Most 20 production companies',fontsize=16)\n",
    "plt.show()"
   ]
  },
  {
   "cell_type": "markdown",
   "metadata": {},
   "source": [
    "**The production company with highest number of released movies is \"Universal Pictures\" with 329 movies**"
   ]
  },
  {
   "cell_type": "markdown",
   "metadata": {},
   "source": [
    "### Research Question 13 : Which is director who directed maximum Movies?"
   ]
  },
  {
   "cell_type": "code",
   "execution_count": 25,
   "metadata": {},
   "outputs": [
    {
     "data": {
      "text/plain": [
       "Steven Spielberg        28\n",
       "Clint Eastwood          24\n",
       "Ridley Scott            21\n",
       "Woody Allen             18\n",
       "Steven Soderbergh       17\n",
       "Robert Rodriguez        17\n",
       "Tim Burton              17\n",
       "Martin Scorsese         17\n",
       "Renny Harlin            15\n",
       "Brian De Palma          15\n",
       "Robert Zemeckis         15\n",
       "Oliver Stone            15\n",
       "Joel Schumacher         14\n",
       "Ron Howard              14\n",
       "Wes Craven              14\n",
       "Tony Scott              14\n",
       "Richard Donner          13\n",
       "Francis Ford Coppola    13\n",
       "Peter Farrelly          13\n",
       "Walter Hill             12\n",
       "dtype: int64"
      ]
     },
     "execution_count": 25,
     "metadata": {},
     "output_type": "execute_result"
    }
   ],
   "source": [
    "#Display Most 20 director directed movies\n",
    "most_director=pd.Series(df['director'].str.cat(sep = '|').split('|')).value_counts().iloc[:20]\n",
    "most_director"
   ]
  },
  {
   "cell_type": "code",
   "execution_count": 119,
   "metadata": {},
   "outputs": [
    {
     "data": {
      "image/png": "[encoded data removed]",
      "text/plain": [
       "<matplotlib.figure.Figure at 0x7f60b2b78358>"
      ]
     },
     "metadata": {
      "needs_background": "light"
     },
     "output_type": "display_data"
    }
   ],
   "source": [
    "#Make chart as visual display for most 20 director directed movies\n",
    "most_director.plot(kind='bar',figsize=(17,6),fontsize=11)\n",
    "plt.xlabel('Director',fontsize=11)\n",
    "plt.xticks(rotation=70)\n",
    "plt.ylabel('Movies count',fontsize=14)\n",
    "plt.title('Most 20 director directed movies',fontsize=16)\n",
    "plt.show()"
   ]
  },
  {
   "cell_type": "markdown",
   "metadata": {},
   "source": [
    "**The director who directed maximum Movies is \"Steven Spielberg\" with 28 movies**"
   ]
  },
  {
   "cell_type": "markdown",
   "metadata": {},
   "source": [
    "<a id='conclusions'></a>\n",
    "## Conclusions\n",
    "\n",
    "**After analysis for TMDb database movie we reached for all answer we aim to :**\n",
    "\n",
    "* **Movies of t s database cover 55 years from 1960 to 2015.**\n",
    "* **Most popular movie weighted by voters and rating number is \"Interstellar\" in 2014.**\n",
    "* **Movie with highest adjusted budget is \"The Warrior's Way\" in 2010 and lowest one is \"Love, Wedding, Marriage\" in 2011**.\n",
    "* **Movie with highest adjusted revenue is \"Avatar\" in 2009 and lowest one is \"Shattered Glass\" in 2003.**\n",
    "* **Movie with highest adjusted profit is \"Star Wars\" in 1977 and lowest one is \"The Warrior's Way\" in 2010.**\n",
    "* **Movie with longest runtime is \"Carlos\" in 2010 and lowest one is \"Kid's Story\" in 2003.**\n",
    "* **Avearage runtime of movies is nearly 109 minutes.**\n",
    "* **The year has the highest count release of movies is 2011 with 198 movies in it.**\n",
    "* **The year has the highest adjusted profit is 2015 with nearly 17.5 billion Dollar.**\n",
    "* **The genre has the most count of released movies is \"Drama\" with 1755 movies.**\n",
    "* **Most star acted in movies is \"Robert De Niro\" with 52 movies.**\n",
    "* **The production company with highest number of released movies is \"Universal Pictures\" with 329 movies.**\n",
    "* **The director who directed maximum Movies is \"Steven Spielberg\" with 28 movies.**\n",
    "\n",
    "### Limitation\n",
    "**limitation in this database from suitable data to analyise that about 35.5% (3853 data rows) only from genuine data with null cells (about 10866 rows), that make our analysis is not free from errors completely.**"
   ]
  },
  {
   "cell_type": "code",
   "execution_count": 32,
   "metadata": {},
   "outputs": [
    {
     "data": {
      "text/plain": [
       "0"
      ]
     },
     "execution_count": 32,
     "metadata": {},
     "output_type": "execute_result"
    }
   ],
   "source": [
    "from subprocess import call\n",
    "call(['python', '-m', 'nbconvert', 'Investigate_a_Dataset.ipynb'])"
   ]
  },
  {
   "cell_type": "code",
   "execution_count": null,
   "metadata": {},
   "outputs": [],
   "source": []
  }
 ],
 "metadata": {
  "kernelspec": {
   "display_name": "Python 3",
   "language": "python",
   "name": "python3"
  },
  "language_info": {
   "codemirror_mode": {
    "name": "ipython",
    "version": 3
   },
   "file_extension": ".py",
   "mimetype": "text/x-python",
   "name": "python",
   "nbconvert_exporter": "python",
   "pygments_lexer": "ipython3",
   "version": "3.6.3"
  }
 },
 "nbformat": 4,
 "nbformat_minor": 2
}
